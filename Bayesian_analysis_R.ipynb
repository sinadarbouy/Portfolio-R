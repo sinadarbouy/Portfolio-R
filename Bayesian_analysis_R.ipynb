{
 "cells": [
  {
   "cell_type": "markdown",
   "metadata": {},
   "source": [
    "# Bayesian analysis in R\n"
   ]
  },
  {
   "cell_type": "markdown",
   "metadata": {},
   "source": [
    "## Description of the data\n",
    "The data [Empirical-Software-Engineering](W. Afzal, A. N. Ghazi, J. Itkonen,\n",
    "R. Torkar, A. Andrews, and K. Bhatti.\n",
    "An experiment on the effectiveness\n",
    "and efficiency of exploratory testing.\n",
    "Empirical Software Engineering, 20(3):\n",
    "844–878, 2015. ISSN 1573-7616. doi:\n",
    "10.1007/s10664-014-9301-4 \"Empirical Software Engineering\") is from an experiment where 70 subjects participated. Of the 70, 46 subjects were categorized as less experienced (LE) and 24 were categorized as more experienced (ME). The experiment evaluated two software testing techniques, i.e., a new technique (NT) and an old technique (OT), used a small, noncritical system as the software under test, and had a 2 × 2 design to avoid learning bias. The effectiveness of each technique was measured through true positives (tp)."
   ]
  },
  {
   "cell_type": "code",
   "execution_count": 1,
   "metadata": {},
   "outputs": [
    {
     "name": "stderr",
     "output_type": "stream",
     "text": [
      "Loading required package: rstan\n",
      "\n",
      "Loading required package: StanHeaders\n",
      "\n",
      "Loading required package: ggplot2\n",
      "\n",
      "rstan (Version 2.21.2, GitRev: 2e1f913d3ca3)\n",
      "\n",
      "For execution on a local, multicore CPU with excess RAM we recommend calling\n",
      "options(mc.cores = parallel::detectCores()).\n",
      "To avoid recompilation of unchanged Stan programs, we recommend calling\n",
      "rstan_options(auto_write = TRUE)\n",
      "\n",
      "Do not specify '-march=native' in 'LOCAL_CPPFLAGS' or a Makevars file\n",
      "\n",
      "Loading required package: parallel\n",
      "\n",
      "rethinking (Version 2.13)\n",
      "\n",
      "\n",
      "Attaching package: 'rethinking'\n",
      "\n",
      "\n",
      "The following object is masked from 'package:stats':\n",
      "\n",
      "    rstudent\n",
      "\n",
      "\n"
     ]
    },
    {
     "data": {
      "text/html": [
       "<table class=\"dataframe\">\n",
       "<caption>A data.frame: 6 × 4</caption>\n",
       "<thead>\n",
       "\t<tr><th></th><th scope=col>subject</th><th scope=col>category</th><th scope=col>technique</th><th scope=col>tp</th></tr>\n",
       "\t<tr><th></th><th scope=col>&lt;int&gt;</th><th scope=col>&lt;chr&gt;</th><th scope=col>&lt;chr&gt;</th><th scope=col>&lt;int&gt;</th></tr>\n",
       "</thead>\n",
       "<tbody>\n",
       "\t<tr><th scope=row>1</th><td>1</td><td>LE</td><td>NT</td><td>5</td></tr>\n",
       "\t<tr><th scope=row>2</th><td>1</td><td>LE</td><td>OT</td><td>6</td></tr>\n",
       "\t<tr><th scope=row>3</th><td>2</td><td>LE</td><td>NT</td><td>3</td></tr>\n",
       "\t<tr><th scope=row>4</th><td>2</td><td>LE</td><td>OT</td><td>3</td></tr>\n",
       "\t<tr><th scope=row>5</th><td>3</td><td>LE</td><td>NT</td><td>7</td></tr>\n",
       "\t<tr><th scope=row>6</th><td>3</td><td>LE</td><td>OT</td><td>3</td></tr>\n",
       "</tbody>\n",
       "</table>\n"
      ],
      "text/latex": [
       "A data.frame: 6 × 4\n",
       "\\begin{tabular}{r|llll}\n",
       "  & subject & category & technique & tp\\\\\n",
       "  & <int> & <chr> & <chr> & <int>\\\\\n",
       "\\hline\n",
       "\t1 & 1 & LE & NT & 5\\\\\n",
       "\t2 & 1 & LE & OT & 6\\\\\n",
       "\t3 & 2 & LE & NT & 3\\\\\n",
       "\t4 & 2 & LE & OT & 3\\\\\n",
       "\t5 & 3 & LE & NT & 7\\\\\n",
       "\t6 & 3 & LE & OT & 3\\\\\n",
       "\\end{tabular}\n"
      ],
      "text/markdown": [
       "\n",
       "A data.frame: 6 × 4\n",
       "\n",
       "| <!--/--> | subject &lt;int&gt; | category &lt;chr&gt; | technique &lt;chr&gt; | tp &lt;int&gt; |\n",
       "|---|---|---|---|---|\n",
       "| 1 | 1 | LE | NT | 5 |\n",
       "| 2 | 1 | LE | OT | 6 |\n",
       "| 3 | 2 | LE | NT | 3 |\n",
       "| 4 | 2 | LE | OT | 3 |\n",
       "| 5 | 3 | LE | NT | 7 |\n",
       "| 6 | 3 | LE | OT | 3 |\n",
       "\n"
      ],
      "text/plain": [
       "  subject category technique tp\n",
       "1 1       LE       NT        5 \n",
       "2 1       LE       OT        6 \n",
       "3 2       LE       NT        3 \n",
       "4 2       LE       OT        3 \n",
       "5 3       LE       NT        7 \n",
       "6 3       LE       OT        3 "
      ]
     },
     "metadata": {},
     "output_type": "display_data"
    }
   ],
   "source": [
    "library(rethinking)\n",
    "d <- read.csv(\"https://raw.githubusercontent.com/torkar/dat321/master/data_autumn2020.csv\", sep=\";\") # nolint\n",
    "head(d)"
   ]
  },
  {
   "cell_type": "markdown",
   "metadata": {},
   "source": [
    "## Descriptive statistics\n",
    "First, I check the tp column I checked min, max, plot, density I saw\n",
    "that everything was normal then I checked the category, I checked 2 Descriptive statistics\n",
    "freq with library \"summarytools\" and I saw that everything fine then\n",
    "I checked the last column and I saw weird things \"0T\" so that is an\n",
    "error and I replace the \"0T\" to \"OT\".then I checked that every subject\n",
    "has two rows in our data with \"count\" Function. the variables we’ll\n",
    "need: in this assignment, I check Three likelihood one of them count\n",
    "base and the others real number base, so I have two data lists that\n",
    "one of I’ve standardized the outcome and in both data lists, tech\n",
    "is 1 for new technique and 2 for old technique and cat is 1 for less\n",
    "experience and 2 for more experience. "
   ]
  },
  {
   "cell_type": "code",
   "execution_count": 4,
   "metadata": {},
   "outputs": [
    {
     "data": {
      "text/html": [
       "<table class=\"dataframe\">\n",
       "<caption>A data.frame: 6 × 4</caption>\n",
       "<thead>\n",
       "\t<tr><th></th><th scope=col>subject</th><th scope=col>category</th><th scope=col>technique</th><th scope=col>tp</th></tr>\n",
       "\t<tr><th></th><th scope=col>&lt;int&gt;</th><th scope=col>&lt;chr&gt;</th><th scope=col>&lt;chr&gt;</th><th scope=col>&lt;int&gt;</th></tr>\n",
       "</thead>\n",
       "<tbody>\n",
       "\t<tr><th scope=row>1</th><td>1</td><td>LE</td><td>NT</td><td>5</td></tr>\n",
       "\t<tr><th scope=row>2</th><td>1</td><td>LE</td><td>OT</td><td>6</td></tr>\n",
       "\t<tr><th scope=row>3</th><td>2</td><td>LE</td><td>NT</td><td>3</td></tr>\n",
       "\t<tr><th scope=row>4</th><td>2</td><td>LE</td><td>OT</td><td>3</td></tr>\n",
       "\t<tr><th scope=row>5</th><td>3</td><td>LE</td><td>NT</td><td>7</td></tr>\n",
       "\t<tr><th scope=row>6</th><td>3</td><td>LE</td><td>OT</td><td>3</td></tr>\n",
       "</tbody>\n",
       "</table>\n"
      ],
      "text/latex": [
       "A data.frame: 6 × 4\n",
       "\\begin{tabular}{r|llll}\n",
       "  & subject & category & technique & tp\\\\\n",
       "  & <int> & <chr> & <chr> & <int>\\\\\n",
       "\\hline\n",
       "\t1 & 1 & LE & NT & 5\\\\\n",
       "\t2 & 1 & LE & OT & 6\\\\\n",
       "\t3 & 2 & LE & NT & 3\\\\\n",
       "\t4 & 2 & LE & OT & 3\\\\\n",
       "\t5 & 3 & LE & NT & 7\\\\\n",
       "\t6 & 3 & LE & OT & 3\\\\\n",
       "\\end{tabular}\n"
      ],
      "text/markdown": [
       "\n",
       "A data.frame: 6 × 4\n",
       "\n",
       "| <!--/--> | subject &lt;int&gt; | category &lt;chr&gt; | technique &lt;chr&gt; | tp &lt;int&gt; |\n",
       "|---|---|---|---|---|\n",
       "| 1 | 1 | LE | NT | 5 |\n",
       "| 2 | 1 | LE | OT | 6 |\n",
       "| 3 | 2 | LE | NT | 3 |\n",
       "| 4 | 2 | LE | OT | 3 |\n",
       "| 5 | 3 | LE | NT | 7 |\n",
       "| 6 | 3 | LE | OT | 3 |\n",
       "\n"
      ],
      "text/plain": [
       "  subject category technique tp\n",
       "1 1       LE       NT        5 \n",
       "2 1       LE       OT        6 \n",
       "3 2       LE       NT        3 \n",
       "4 2       LE       OT        3 \n",
       "5 3       LE       NT        7 \n",
       "6 3       LE       OT        3 "
      ]
     },
     "metadata": {},
     "output_type": "display_data"
    },
    {
     "name": "stdout",
     "output_type": "stream",
     "text": [
      "'data.frame':\t140 obs. of  4 variables:\n",
      " $ subject  : int  1 1 2 2 3 3 4 4 5 5 ...\n",
      " $ category : chr  \"LE\" \"LE\" \"LE\" \"LE\" ...\n",
      " $ technique: chr  \"NT\" \"OT\" \"NT\" \"OT\" ...\n",
      " $ tp       : int  5 6 3 3 7 3 6 4 11 5 ...\n"
     ]
    },
    {
     "data": {
      "text/html": [
       "1"
      ],
      "text/latex": [
       "1"
      ],
      "text/markdown": [
       "1"
      ],
      "text/plain": [
       "[1] 1"
      ]
     },
     "metadata": {},
     "output_type": "display_data"
    },
    {
     "data": {
      "text/html": [
       "11"
      ],
      "text/latex": [
       "11"
      ],
      "text/markdown": [
       "11"
      ],
      "text/plain": [
       "[1] 11"
      ]
     },
     "metadata": {},
     "output_type": "display_data"
    },
    {
     "data": {
      "image/png": "[encoded data removed]",
      "text/plain": [
       "plot without title"
      ]
     },
     "metadata": {
      "image/png": {
       "height": 420,
       "width": 420
      }
     },
     "output_type": "display_data"
    },
    {
     "data": {
      "text/html": [
       "<table class=\"dataframe\">\n",
       "<caption>A summarytools: 4 × 5 of type dbl</caption>\n",
       "<thead>\n",
       "\t<tr><th></th><th scope=col>Freq</th><th scope=col>% Valid</th><th scope=col>% Valid Cum.</th><th scope=col>% Total</th><th scope=col>% Total Cum.</th></tr>\n",
       "</thead>\n",
       "<tbody>\n",
       "\t<tr><th scope=row>LE</th><td> 92</td><td> 65.71429</td><td> 65.71429</td><td> 65.71429</td><td> 65.71429</td></tr>\n",
       "\t<tr><th scope=row>ME</th><td> 48</td><td> 34.28571</td><td>100.00000</td><td> 34.28571</td><td>100.00000</td></tr>\n",
       "\t<tr><th scope=row>&lt;NA&gt;</th><td>  0</td><td>       NA</td><td>       NA</td><td>  0.00000</td><td>100.00000</td></tr>\n",
       "\t<tr><th scope=row>Total</th><td>140</td><td>100.00000</td><td>100.00000</td><td>100.00000</td><td>100.00000</td></tr>\n",
       "</tbody>\n",
       "</table>\n"
      ],
      "text/latex": [
       "A summarytools: 4 × 5 of type dbl\n",
       "\\begin{tabular}{r|lllll}\n",
       "  & Freq & \\% Valid & \\% Valid Cum. & \\% Total & \\% Total Cum.\\\\\n",
       "\\hline\n",
       "\tLE &  92 &  65.71429 &  65.71429 &  65.71429 &  65.71429\\\\\n",
       "\tME &  48 &  34.28571 & 100.00000 &  34.28571 & 100.00000\\\\\n",
       "\t<NA> &   0 &        NA &        NA &   0.00000 & 100.00000\\\\\n",
       "\tTotal & 140 & 100.00000 & 100.00000 & 100.00000 & 100.00000\\\\\n",
       "\\end{tabular}\n"
      ],
      "text/markdown": [
       "\n",
       "A summarytools: 4 × 5 of type dbl\n",
       "\n",
       "| <!--/--> | Freq | % Valid | % Valid Cum. | % Total | % Total Cum. |\n",
       "|---|---|---|---|---|---|\n",
       "| LE |  92 |  65.71429 |  65.71429 |  65.71429 |  65.71429 |\n",
       "| ME |  48 |  34.28571 | 100.00000 |  34.28571 | 100.00000 |\n",
       "| &lt;NA&gt; |   0 |        NA |        NA |   0.00000 | 100.00000 |\n",
       "| Total | 140 | 100.00000 | 100.00000 | 100.00000 | 100.00000 |\n",
       "\n"
      ],
      "text/plain": [
       "      Freq % Valid   % Valid Cum. % Total   % Total Cum.\n",
       "LE     92   65.71429  65.71429     65.71429  65.71429   \n",
       "ME     48   34.28571 100.00000     34.28571 100.00000   \n",
       "<NA>    0         NA        NA      0.00000 100.00000   \n",
       "Total 140  100.00000 100.00000    100.00000 100.00000   "
      ]
     },
     "metadata": {},
     "output_type": "display_data"
    },
    {
     "data": {
      "text/html": [
       "'0T'"
      ],
      "text/latex": [
       "'0T'"
      ],
      "text/markdown": [
       "'0T'"
      ],
      "text/plain": [
       "[1] \"0T\""
      ]
     },
     "metadata": {},
     "output_type": "display_data"
    },
    {
     "data": {
      "text/html": [
       "<table class=\"dataframe\">\n",
       "<caption>A summarytools: 5 × 5 of type dbl</caption>\n",
       "<thead>\n",
       "\t<tr><th></th><th scope=col>Freq</th><th scope=col>% Valid</th><th scope=col>% Valid Cum.</th><th scope=col>% Total</th><th scope=col>% Total Cum.</th></tr>\n",
       "</thead>\n",
       "<tbody>\n",
       "\t<tr><th scope=row>0T</th><td>  1</td><td>  0.7142857</td><td>  0.7142857</td><td>  0.7142857</td><td>  0.7142857</td></tr>\n",
       "\t<tr><th scope=row>NT</th><td> 70</td><td> 50.0000000</td><td> 50.7142857</td><td> 50.0000000</td><td> 50.7142857</td></tr>\n",
       "\t<tr><th scope=row>OT</th><td> 69</td><td> 49.2857143</td><td>100.0000000</td><td> 49.2857143</td><td>100.0000000</td></tr>\n",
       "\t<tr><th scope=row>&lt;NA&gt;</th><td>  0</td><td>         NA</td><td>         NA</td><td>  0.0000000</td><td>100.0000000</td></tr>\n",
       "\t<tr><th scope=row>Total</th><td>140</td><td>100.0000000</td><td>100.0000000</td><td>100.0000000</td><td>100.0000000</td></tr>\n",
       "</tbody>\n",
       "</table>\n"
      ],
      "text/latex": [
       "A summarytools: 5 × 5 of type dbl\n",
       "\\begin{tabular}{r|lllll}\n",
       "  & Freq & \\% Valid & \\% Valid Cum. & \\% Total & \\% Total Cum.\\\\\n",
       "\\hline\n",
       "\t0T &   1 &   0.7142857 &   0.7142857 &   0.7142857 &   0.7142857\\\\\n",
       "\tNT &  70 &  50.0000000 &  50.7142857 &  50.0000000 &  50.7142857\\\\\n",
       "\tOT &  69 &  49.2857143 & 100.0000000 &  49.2857143 & 100.0000000\\\\\n",
       "\t<NA> &   0 &          NA &          NA &   0.0000000 & 100.0000000\\\\\n",
       "\tTotal & 140 & 100.0000000 & 100.0000000 & 100.0000000 & 100.0000000\\\\\n",
       "\\end{tabular}\n"
      ],
      "text/markdown": [
       "\n",
       "A summarytools: 5 × 5 of type dbl\n",
       "\n",
       "| <!--/--> | Freq | % Valid | % Valid Cum. | % Total | % Total Cum. |\n",
       "|---|---|---|---|---|---|\n",
       "| 0T |   1 |   0.7142857 |   0.7142857 |   0.7142857 |   0.7142857 |\n",
       "| NT |  70 |  50.0000000 |  50.7142857 |  50.0000000 |  50.7142857 |\n",
       "| OT |  69 |  49.2857143 | 100.0000000 |  49.2857143 | 100.0000000 |\n",
       "| &lt;NA&gt; |   0 |          NA |          NA |   0.0000000 | 100.0000000 |\n",
       "| Total | 140 | 100.0000000 | 100.0000000 | 100.0000000 | 100.0000000 |\n",
       "\n"
      ],
      "text/plain": [
       "      Freq % Valid     % Valid Cum. % Total     % Total Cum.\n",
       "0T      1    0.7142857   0.7142857    0.7142857   0.7142857 \n",
       "NT     70   50.0000000  50.7142857   50.0000000  50.7142857 \n",
       "OT     69   49.2857143 100.0000000   49.2857143 100.0000000 \n",
       "<NA>    0           NA          NA    0.0000000 100.0000000 \n",
       "Total 140  100.0000000 100.0000000  100.0000000 100.0000000 "
      ]
     },
     "metadata": {},
     "output_type": "display_data"
    },
    {
     "data": {
      "text/html": [
       "<table class=\"dataframe\">\n",
       "<caption>A data.frame: 70 × 2</caption>\n",
       "<thead>\n",
       "\t<tr><th scope=col>subject</th><th scope=col>freq</th></tr>\n",
       "\t<tr><th scope=col>&lt;int&gt;</th><th scope=col>&lt;int&gt;</th></tr>\n",
       "</thead>\n",
       "<tbody>\n",
       "\t<tr><td> 1</td><td>2</td></tr>\n",
       "\t<tr><td> 2</td><td>2</td></tr>\n",
       "\t<tr><td> 3</td><td>2</td></tr>\n",
       "\t<tr><td> 4</td><td>2</td></tr>\n",
       "\t<tr><td> 5</td><td>2</td></tr>\n",
       "\t<tr><td> 6</td><td>2</td></tr>\n",
       "\t<tr><td> 7</td><td>2</td></tr>\n",
       "\t<tr><td> 8</td><td>2</td></tr>\n",
       "\t<tr><td> 9</td><td>2</td></tr>\n",
       "\t<tr><td>10</td><td>2</td></tr>\n",
       "\t<tr><td>11</td><td>2</td></tr>\n",
       "\t<tr><td>12</td><td>2</td></tr>\n",
       "\t<tr><td>13</td><td>2</td></tr>\n",
       "\t<tr><td>14</td><td>2</td></tr>\n",
       "\t<tr><td>15</td><td>2</td></tr>\n",
       "\t<tr><td>16</td><td>2</td></tr>\n",
       "\t<tr><td>17</td><td>2</td></tr>\n",
       "\t<tr><td>18</td><td>2</td></tr>\n",
       "\t<tr><td>19</td><td>2</td></tr>\n",
       "\t<tr><td>20</td><td>2</td></tr>\n",
       "\t<tr><td>21</td><td>2</td></tr>\n",
       "\t<tr><td>22</td><td>2</td></tr>\n",
       "\t<tr><td>23</td><td>2</td></tr>\n",
       "\t<tr><td>24</td><td>2</td></tr>\n",
       "\t<tr><td>25</td><td>2</td></tr>\n",
       "\t<tr><td>26</td><td>2</td></tr>\n",
       "\t<tr><td>27</td><td>2</td></tr>\n",
       "\t<tr><td>28</td><td>2</td></tr>\n",
       "\t<tr><td>29</td><td>2</td></tr>\n",
       "\t<tr><td>30</td><td>2</td></tr>\n",
       "\t<tr><td>...</td><td>...</td></tr>\n",
       "\t<tr><td>41</td><td>2</td></tr>\n",
       "\t<tr><td>42</td><td>2</td></tr>\n",
       "\t<tr><td>43</td><td>2</td></tr>\n",
       "\t<tr><td>44</td><td>2</td></tr>\n",
       "\t<tr><td>45</td><td>2</td></tr>\n",
       "\t<tr><td>46</td><td>2</td></tr>\n",
       "\t<tr><td>47</td><td>2</td></tr>\n",
       "\t<tr><td>48</td><td>2</td></tr>\n",
       "\t<tr><td>49</td><td>2</td></tr>\n",
       "\t<tr><td>50</td><td>2</td></tr>\n",
       "\t<tr><td>51</td><td>2</td></tr>\n",
       "\t<tr><td>52</td><td>2</td></tr>\n",
       "\t<tr><td>53</td><td>2</td></tr>\n",
       "\t<tr><td>54</td><td>2</td></tr>\n",
       "\t<tr><td>55</td><td>2</td></tr>\n",
       "\t<tr><td>56</td><td>2</td></tr>\n",
       "\t<tr><td>57</td><td>2</td></tr>\n",
       "\t<tr><td>58</td><td>2</td></tr>\n",
       "\t<tr><td>59</td><td>2</td></tr>\n",
       "\t<tr><td>60</td><td>2</td></tr>\n",
       "\t<tr><td>61</td><td>2</td></tr>\n",
       "\t<tr><td>62</td><td>2</td></tr>\n",
       "\t<tr><td>63</td><td>2</td></tr>\n",
       "\t<tr><td>64</td><td>2</td></tr>\n",
       "\t<tr><td>65</td><td>2</td></tr>\n",
       "\t<tr><td>66</td><td>2</td></tr>\n",
       "\t<tr><td>67</td><td>2</td></tr>\n",
       "\t<tr><td>68</td><td>2</td></tr>\n",
       "\t<tr><td>69</td><td>2</td></tr>\n",
       "\t<tr><td>70</td><td>2</td></tr>\n",
       "</tbody>\n",
       "</table>\n"
      ],
      "text/latex": [
       "A data.frame: 70 × 2\n",
       "\\begin{tabular}{ll}\n",
       " subject & freq\\\\\n",
       " <int> & <int>\\\\\n",
       "\\hline\n",
       "\t  1 & 2\\\\\n",
       "\t  2 & 2\\\\\n",
       "\t  3 & 2\\\\\n",
       "\t  4 & 2\\\\\n",
       "\t  5 & 2\\\\\n",
       "\t  6 & 2\\\\\n",
       "\t  7 & 2\\\\\n",
       "\t  8 & 2\\\\\n",
       "\t  9 & 2\\\\\n",
       "\t 10 & 2\\\\\n",
       "\t 11 & 2\\\\\n",
       "\t 12 & 2\\\\\n",
       "\t 13 & 2\\\\\n",
       "\t 14 & 2\\\\\n",
       "\t 15 & 2\\\\\n",
       "\t 16 & 2\\\\\n",
       "\t 17 & 2\\\\\n",
       "\t 18 & 2\\\\\n",
       "\t 19 & 2\\\\\n",
       "\t 20 & 2\\\\\n",
       "\t 21 & 2\\\\\n",
       "\t 22 & 2\\\\\n",
       "\t 23 & 2\\\\\n",
       "\t 24 & 2\\\\\n",
       "\t 25 & 2\\\\\n",
       "\t 26 & 2\\\\\n",
       "\t 27 & 2\\\\\n",
       "\t 28 & 2\\\\\n",
       "\t 29 & 2\\\\\n",
       "\t 30 & 2\\\\\n",
       "\t ... & ...\\\\\n",
       "\t 41 & 2\\\\\n",
       "\t 42 & 2\\\\\n",
       "\t 43 & 2\\\\\n",
       "\t 44 & 2\\\\\n",
       "\t 45 & 2\\\\\n",
       "\t 46 & 2\\\\\n",
       "\t 47 & 2\\\\\n",
       "\t 48 & 2\\\\\n",
       "\t 49 & 2\\\\\n",
       "\t 50 & 2\\\\\n",
       "\t 51 & 2\\\\\n",
       "\t 52 & 2\\\\\n",
       "\t 53 & 2\\\\\n",
       "\t 54 & 2\\\\\n",
       "\t 55 & 2\\\\\n",
       "\t 56 & 2\\\\\n",
       "\t 57 & 2\\\\\n",
       "\t 58 & 2\\\\\n",
       "\t 59 & 2\\\\\n",
       "\t 60 & 2\\\\\n",
       "\t 61 & 2\\\\\n",
       "\t 62 & 2\\\\\n",
       "\t 63 & 2\\\\\n",
       "\t 64 & 2\\\\\n",
       "\t 65 & 2\\\\\n",
       "\t 66 & 2\\\\\n",
       "\t 67 & 2\\\\\n",
       "\t 68 & 2\\\\\n",
       "\t 69 & 2\\\\\n",
       "\t 70 & 2\\\\\n",
       "\\end{tabular}\n"
      ],
      "text/markdown": [
       "\n",
       "A data.frame: 70 × 2\n",
       "\n",
       "| subject &lt;int&gt; | freq &lt;int&gt; |\n",
       "|---|---|\n",
       "|  1 | 2 |\n",
       "|  2 | 2 |\n",
       "|  3 | 2 |\n",
       "|  4 | 2 |\n",
       "|  5 | 2 |\n",
       "|  6 | 2 |\n",
       "|  7 | 2 |\n",
       "|  8 | 2 |\n",
       "|  9 | 2 |\n",
       "| 10 | 2 |\n",
       "| 11 | 2 |\n",
       "| 12 | 2 |\n",
       "| 13 | 2 |\n",
       "| 14 | 2 |\n",
       "| 15 | 2 |\n",
       "| 16 | 2 |\n",
       "| 17 | 2 |\n",
       "| 18 | 2 |\n",
       "| 19 | 2 |\n",
       "| 20 | 2 |\n",
       "| 21 | 2 |\n",
       "| 22 | 2 |\n",
       "| 23 | 2 |\n",
       "| 24 | 2 |\n",
       "| 25 | 2 |\n",
       "| 26 | 2 |\n",
       "| 27 | 2 |\n",
       "| 28 | 2 |\n",
       "| 29 | 2 |\n",
       "| 30 | 2 |\n",
       "| ... | ... |\n",
       "| 41 | 2 |\n",
       "| 42 | 2 |\n",
       "| 43 | 2 |\n",
       "| 44 | 2 |\n",
       "| 45 | 2 |\n",
       "| 46 | 2 |\n",
       "| 47 | 2 |\n",
       "| 48 | 2 |\n",
       "| 49 | 2 |\n",
       "| 50 | 2 |\n",
       "| 51 | 2 |\n",
       "| 52 | 2 |\n",
       "| 53 | 2 |\n",
       "| 54 | 2 |\n",
       "| 55 | 2 |\n",
       "| 56 | 2 |\n",
       "| 57 | 2 |\n",
       "| 58 | 2 |\n",
       "| 59 | 2 |\n",
       "| 60 | 2 |\n",
       "| 61 | 2 |\n",
       "| 62 | 2 |\n",
       "| 63 | 2 |\n",
       "| 64 | 2 |\n",
       "| 65 | 2 |\n",
       "| 66 | 2 |\n",
       "| 67 | 2 |\n",
       "| 68 | 2 |\n",
       "| 69 | 2 |\n",
       "| 70 | 2 |\n",
       "\n"
      ],
      "text/plain": [
       "    subject freq\n",
       "1    1      2   \n",
       "2    2      2   \n",
       "3    3      2   \n",
       "4    4      2   \n",
       "5    5      2   \n",
       "6    6      2   \n",
       "7    7      2   \n",
       "8    8      2   \n",
       "9    9      2   \n",
       "10  10      2   \n",
       "11  11      2   \n",
       "12  12      2   \n",
       "13  13      2   \n",
       "14  14      2   \n",
       "15  15      2   \n",
       "16  16      2   \n",
       "17  17      2   \n",
       "18  18      2   \n",
       "19  19      2   \n",
       "20  20      2   \n",
       "21  21      2   \n",
       "22  22      2   \n",
       "23  23      2   \n",
       "24  24      2   \n",
       "25  25      2   \n",
       "26  26      2   \n",
       "27  27      2   \n",
       "28  28      2   \n",
       "29  29      2   \n",
       "30  30      2   \n",
       "... ...     ... \n",
       "41  41      2   \n",
       "42  42      2   \n",
       "43  43      2   \n",
       "44  44      2   \n",
       "45  45      2   \n",
       "46  46      2   \n",
       "47  47      2   \n",
       "48  48      2   \n",
       "49  49      2   \n",
       "50  50      2   \n",
       "51  51      2   \n",
       "52  52      2   \n",
       "53  53      2   \n",
       "54  54      2   \n",
       "55  55      2   \n",
       "56  56      2   \n",
       "57  57      2   \n",
       "58  58      2   \n",
       "59  59      2   \n",
       "60  60      2   \n",
       "61  61      2   \n",
       "62  62      2   \n",
       "63  63      2   \n",
       "64  64      2   \n",
       "65  65      2   \n",
       "66  66      2   \n",
       "67  67      2   \n",
       "68  68      2   \n",
       "69  69      2   \n",
       "70  70      2   "
      ]
     },
     "metadata": {},
     "output_type": "display_data"
    },
    {
     "data": {
      "image/png": "[encoded data removed]",
      "text/plain": [
       "Plot with title \"density.default(x = d$tp)\""
      ]
     },
     "metadata": {
      "image/png": {
       "height": 420,
       "width": 420
      }
     },
     "output_type": "display_data"
    }
   ],
   "source": [
    "#_____________Descriptive statistics_________\n",
    "head(d)\n",
    "str(d)\n",
    "\n",
    "#First check tp\n",
    "min(d$tp)\n",
    "max(d$tp)\n",
    "plot(d$tp)\n",
    "plot(density(d$tp))\n",
    "\n",
    "#Second Check category\n",
    "library(summarytools)\n",
    "freq(d$category)\n",
    "\n",
    "#third check technique\n",
    "#______________Find Something________________\n",
    "min(d$technique) #  \"0T\" !!\n",
    "library(summarytools)\n",
    "freq(d$technique) #find three categury !!\n",
    "\n",
    "library(plyr)\n",
    "count(d, \"subject\")\n"
   ]
  },
  {
   "cell_type": "code",
   "execution_count": 2,
   "metadata": {},
   "outputs": [],
   "source": [
    "d$technique[d$technique == \"0T\"] <- \"OT\" #Fix the error\n",
    "\n",
    "dat_list <- list(\n",
    "    tp = standardize(d$tp),\n",
    "    T = ifelse(d$technique == \"NT\", 1L, 2L),\n",
    "    C = ifelse(d$category == \"LE\", 1L, 2L)\n",
    ")\n",
    "\n",
    "dat_list2 <- list(\n",
    "    tp = d$tp,\n",
    "    T = ifelse(d$technique == \"NT\", 1L, 2L),\n",
    "    C = ifelse(d$category == \"LE\", 1L, 2L)\n",
    ")\n"
   ]
  },
  {
   "cell_type": "markdown",
   "metadata": {},
   "source": [
    "## Models\n",
    "### likelihood(s)\n",
    "I have two options for choosing likelihood one of them going base real number the other one going base count number and I want to compare these two models and show that \"Is it good to standardize and convert discrete numbers to  Real numbers or not?\" so for count base number I have Two options one of them is binomial and the other one is Poisson and because we have a low rate for Score so I choose Poisson and in Poisson I have two other options one of them Standard Poisson and the other one Gama Poisson at first I check mean and variance of tp 4 and I saw that there is a little difference so There should not be much difference between the two likelihoods So I choose Poisson for Three reasons:\n",
    "1. Count Events With Low rate \n",
    "2. Mean and Variance are almost equal \n",
    "3. we don’t have many trials so adding parameters Probably not a good idea"
   ]
  },
  {
   "cell_type": "markdown",
   "metadata": {},
   "source": [
    "Eventually, I became curious to check Gama-Poisson too."
   ]
  },
  {
   "cell_type": "markdown",
   "metadata": {},
   "source": [
    "### Priors\n",
    "To define prior I need to find mean, min, max of data for both desecrate number data and real number data so at first, I calculate them. I have 6 models:"
   ]
  },
  {
   "cell_type": "code",
   "execution_count": 7,
   "metadata": {},
   "outputs": [
    {
     "data": {
      "text/html": [
       "6.14138576303182e-17"
      ],
      "text/latex": [
       "6.14138576303182e-17"
      ],
      "text/markdown": [
       "6.14138576303182e-17"
      ],
      "text/plain": [
       "[1] 6.141386e-17"
      ]
     },
     "metadata": {},
     "output_type": "display_data"
    },
    {
     "data": {
      "text/html": [
       "-1.86899866450574"
      ],
      "text/latex": [
       "-1.86899866450574"
      ],
      "text/markdown": [
       "-1.86899866450574"
      ],
      "text/plain": [
       "[1] -1.868999"
      ]
     },
     "metadata": {},
     "output_type": "display_data"
    },
    {
     "data": {
      "text/html": [
       "3.07731160072684"
      ],
      "text/latex": [
       "3.07731160072684"
      ],
      "text/markdown": [
       "3.07731160072684"
      ],
      "text/plain": [
       "[1] 3.077312"
      ]
     },
     "metadata": {},
     "output_type": "display_data"
    },
    {
     "data": {
      "text/html": [
       "4.77857142857143"
      ],
      "text/latex": [
       "4.77857142857143"
      ],
      "text/markdown": [
       "4.77857142857143"
      ],
      "text/plain": [
       "[1] 4.778571"
      ]
     },
     "metadata": {},
     "output_type": "display_data"
    },
    {
     "data": {
      "text/html": [
       "1"
      ],
      "text/latex": [
       "1"
      ],
      "text/markdown": [
       "1"
      ],
      "text/plain": [
       "[1] 1"
      ]
     },
     "metadata": {},
     "output_type": "display_data"
    },
    {
     "data": {
      "text/html": [
       "11"
      ],
      "text/latex": [
       "11"
      ],
      "text/markdown": [
       "11"
      ],
      "text/plain": [
       "[1] 11"
      ]
     },
     "metadata": {},
     "output_type": "display_data"
    }
   ],
   "source": [
    "mean(dat_list$tp)\n",
    "min(dat_list$tp)\n",
    "max(dat_list$tp)\n",
    "mean(dat_list2$tp)\n",
    "min(dat_list2$tp)\n",
    "max(dat_list2$tp)\n"
   ]
  },
  {
   "cell_type": "markdown",
   "metadata": {},
   "source": [
    "### M1:\n",
    "at first, I check the data that see that we can have negative and\n",
    "positive so at first, I put zero for normal model a and the same\n",
    "for bT and bC but for variance, I check some numbers to get the\n",
    "best result for the first I check 1 but I know that the mean so near\n",
    "to zero so this number should be near to zero but I just want to\n",
    "check and get experience and for both bT and bC I know that this\n",
    "is slope and C and T they can just take two number of 1,2 because\n",
    "of mean the bT and bC obviously that must be less than 1 then I\n",
    "create my model I check n_eff and Rhat, the Rhat shows 1 so I’m\n",
    "in a good way but But the situation of n_eff is not very good its\n",
    "less than the 1000 and so far to 2000 for 4 chains. I tried different\n",
    "numbers and finally, I got to this model (you can see my tries and\n",
    "precis of each number)"
   ]
  },
  {
   "cell_type": "code",
   "execution_count": 3,
   "metadata": {},
   "outputs": [
    {
     "name": "stdout",
     "output_type": "stream",
     "text": [
      "\n",
      "SAMPLING FOR MODEL 'f2bedb0a0b842f9bd3910a1e624c98a9' NOW (CHAIN 1).\n",
      "Chain 1: \n",
      "Chain 1: Gradient evaluation took 0 seconds\n",
      "Chain 1: 1000 transitions using 10 leapfrog steps per transition would take 0 seconds.\n",
      "Chain 1: Adjust your expectations accordingly!\n",
      "Chain 1: \n",
      "Chain 1: \n",
      "Chain 1: Iteration:   1 / 1000 [  0%]  (Warmup)\n",
      "Chain 1: Iteration: 100 / 1000 [ 10%]  (Warmup)\n",
      "Chain 1: Iteration: 200 / 1000 [ 20%]  (Warmup)\n",
      "Chain 1: Iteration: 300 / 1000 [ 30%]  (Warmup)\n",
      "Chain 1: Iteration: 400 / 1000 [ 40%]  (Warmup)\n",
      "Chain 1: Iteration: 500 / 1000 [ 50%]  (Warmup)\n",
      "Chain 1: Iteration: 501 / 1000 [ 50%]  (Sampling)\n",
      "Chain 1: Iteration: 600 / 1000 [ 60%]  (Sampling)\n",
      "Chain 1: Iteration: 700 / 1000 [ 70%]  (Sampling)\n",
      "Chain 1: Iteration: 800 / 1000 [ 80%]  (Sampling)\n",
      "Chain 1: Iteration: 900 / 1000 [ 90%]  (Sampling)\n",
      "Chain 1: Iteration: 1000 / 1000 [100%]  (Sampling)\n",
      "Chain 1: \n",
      "Chain 1:  Elapsed Time: 0.203 seconds (Warm-up)\n",
      "Chain 1:                0.123 seconds (Sampling)\n",
      "Chain 1:                0.326 seconds (Total)\n",
      "Chain 1: \n",
      "\n",
      "SAMPLING FOR MODEL 'f2bedb0a0b842f9bd3910a1e624c98a9' NOW (CHAIN 2).\n",
      "Chain 2: \n",
      "Chain 2: Gradient evaluation took 0 seconds\n",
      "Chain 2: 1000 transitions using 10 leapfrog steps per transition would take 0 seconds.\n",
      "Chain 2: Adjust your expectations accordingly!\n",
      "Chain 2: \n",
      "Chain 2: \n",
      "Chain 2: Iteration:   1 / 1000 [  0%]  (Warmup)\n",
      "Chain 2: Iteration: 100 / 1000 [ 10%]  (Warmup)\n",
      "Chain 2: Iteration: 200 / 1000 [ 20%]  (Warmup)\n",
      "Chain 2: Iteration: 300 / 1000 [ 30%]  (Warmup)\n",
      "Chain 2: Iteration: 400 / 1000 [ 40%]  (Warmup)\n",
      "Chain 2: Iteration: 500 / 1000 [ 50%]  (Warmup)\n",
      "Chain 2: Iteration: 501 / 1000 [ 50%]  (Sampling)\n",
      "Chain 2: Iteration: 600 / 1000 [ 60%]  (Sampling)\n",
      "Chain 2: Iteration: 700 / 1000 [ 70%]  (Sampling)\n",
      "Chain 2: Iteration: 800 / 1000 [ 80%]  (Sampling)\n",
      "Chain 2: Iteration: 900 / 1000 [ 90%]  (Sampling)\n",
      "Chain 2: Iteration: 1000 / 1000 [100%]  (Sampling)\n",
      "Chain 2: \n",
      "Chain 2:  Elapsed Time: 0.195 seconds (Warm-up)\n",
      "Chain 2:                0.157 seconds (Sampling)\n",
      "Chain 2:                0.352 seconds (Total)\n",
      "Chain 2: \n",
      "\n",
      "SAMPLING FOR MODEL 'f2bedb0a0b842f9bd3910a1e624c98a9' NOW (CHAIN 3).\n",
      "Chain 3: \n",
      "Chain 3: Gradient evaluation took 0.001 seconds\n",
      "Chain 3: 1000 transitions using 10 leapfrog steps per transition would take 10 seconds.\n",
      "Chain 3: Adjust your expectations accordingly!\n",
      "Chain 3: \n",
      "Chain 3: \n",
      "Chain 3: Iteration:   1 / 1000 [  0%]  (Warmup)\n",
      "Chain 3: Iteration: 100 / 1000 [ 10%]  (Warmup)\n",
      "Chain 3: Iteration: 200 / 1000 [ 20%]  (Warmup)\n",
      "Chain 3: Iteration: 300 / 1000 [ 30%]  (Warmup)\n",
      "Chain 3: Iteration: 400 / 1000 [ 40%]  (Warmup)\n",
      "Chain 3: Iteration: 500 / 1000 [ 50%]  (Warmup)\n",
      "Chain 3: Iteration: 501 / 1000 [ 50%]  (Sampling)\n",
      "Chain 3: Iteration: 600 / 1000 [ 60%]  (Sampling)\n",
      "Chain 3: Iteration: 700 / 1000 [ 70%]  (Sampling)\n",
      "Chain 3: Iteration: 800 / 1000 [ 80%]  (Sampling)\n",
      "Chain 3: Iteration: 900 / 1000 [ 90%]  (Sampling)\n",
      "Chain 3: Iteration: 1000 / 1000 [100%]  (Sampling)\n",
      "Chain 3: \n",
      "Chain 3:  Elapsed Time: 0.12 seconds (Warm-up)\n",
      "Chain 3:                0.181 seconds (Sampling)\n",
      "Chain 3:                0.301 seconds (Total)\n",
      "Chain 3: \n",
      "\n",
      "SAMPLING FOR MODEL 'f2bedb0a0b842f9bd3910a1e624c98a9' NOW (CHAIN 4).\n",
      "Chain 4: \n",
      "Chain 4: Gradient evaluation took 0 seconds\n",
      "Chain 4: 1000 transitions using 10 leapfrog steps per transition would take 0 seconds.\n",
      "Chain 4: Adjust your expectations accordingly!\n",
      "Chain 4: \n",
      "Chain 4: \n",
      "Chain 4: Iteration:   1 / 1000 [  0%]  (Warmup)\n",
      "Chain 4: Iteration: 100 / 1000 [ 10%]  (Warmup)\n",
      "Chain 4: Iteration: 200 / 1000 [ 20%]  (Warmup)\n",
      "Chain 4: Iteration: 300 / 1000 [ 30%]  (Warmup)\n",
      "Chain 4: Iteration: 400 / 1000 [ 40%]  (Warmup)\n",
      "Chain 4: Iteration: 500 / 1000 [ 50%]  (Warmup)\n",
      "Chain 4: Iteration: 501 / 1000 [ 50%]  (Sampling)\n",
      "Chain 4: Iteration: 600 / 1000 [ 60%]  (Sampling)\n",
      "Chain 4: Iteration: 700 / 1000 [ 70%]  (Sampling)\n",
      "Chain 4: Iteration: 800 / 1000 [ 80%]  (Sampling)\n",
      "Chain 4: Iteration: 900 / 1000 [ 90%]  (Sampling)\n",
      "Chain 4: Iteration: 1000 / 1000 [100%]  (Sampling)\n",
      "Chain 4: \n",
      "Chain 4:  Elapsed Time: 0.118 seconds (Warm-up)\n",
      "Chain 4:                0.168 seconds (Sampling)\n",
      "Chain 4:                0.286 seconds (Total)\n",
      "Chain 4: \n"
     ]
    }
   ],
   "source": [
    "m1 <- ulam(\n",
    "  alist(\n",
    "    tp ~ dnorm(mu, sigma),\n",
    "    mu <- a + bT * T + bC * C,\n",
    "    a ~ dnorm(0, 0.2),\n",
    "    c(bT, bC) ~ dnorm(0, 0.5),\n",
    "    sigma ~ dexp(1)\n",
    "  ), data = dat_list, chains = 4, cores = 1, log_lik = TRUE\n",
    ")"
   ]
  },
  {
   "cell_type": "markdown",
   "metadata": {},
   "source": [
    "### M2:\n",
    "m2 is the same as m1 Being as the likelihood is the same but it is an iteration model"
   ]
  },
  {
   "cell_type": "code",
   "execution_count": 4,
   "metadata": {},
   "outputs": [
    {
     "name": "stdout",
     "output_type": "stream",
     "text": [
      "\n",
      "SAMPLING FOR MODEL '5e0d2402cb8453f2def0cff7bb6c8ba2' NOW (CHAIN 1).\n",
      "Chain 1: \n",
      "Chain 1: Gradient evaluation took 0 seconds\n",
      "Chain 1: 1000 transitions using 10 leapfrog steps per transition would take 0 seconds.\n",
      "Chain 1: Adjust your expectations accordingly!\n",
      "Chain 1: \n",
      "Chain 1: \n",
      "Chain 1: Iteration:   1 / 1000 [  0%]  (Warmup)\n",
      "Chain 1: Iteration: 100 / 1000 [ 10%]  (Warmup)\n",
      "Chain 1: Iteration: 200 / 1000 [ 20%]  (Warmup)\n",
      "Chain 1: Iteration: 300 / 1000 [ 30%]  (Warmup)\n",
      "Chain 1: Iteration: 400 / 1000 [ 40%]  (Warmup)\n",
      "Chain 1: Iteration: 500 / 1000 [ 50%]  (Warmup)\n",
      "Chain 1: Iteration: 501 / 1000 [ 50%]  (Sampling)\n",
      "Chain 1: Iteration: 600 / 1000 [ 60%]  (Sampling)\n",
      "Chain 1: Iteration: 700 / 1000 [ 70%]  (Sampling)\n",
      "Chain 1: Iteration: 800 / 1000 [ 80%]  (Sampling)\n",
      "Chain 1: Iteration: 900 / 1000 [ 90%]  (Sampling)\n",
      "Chain 1: Iteration: 1000 / 1000 [100%]  (Sampling)\n",
      "Chain 1: \n",
      "Chain 1:  Elapsed Time: 0.067 seconds (Warm-up)\n",
      "Chain 1:                0.059 seconds (Sampling)\n",
      "Chain 1:                0.126 seconds (Total)\n",
      "Chain 1: \n",
      "\n",
      "SAMPLING FOR MODEL '5e0d2402cb8453f2def0cff7bb6c8ba2' NOW (CHAIN 2).\n",
      "Chain 2: \n",
      "Chain 2: Gradient evaluation took 0 seconds\n",
      "Chain 2: 1000 transitions using 10 leapfrog steps per transition would take 0 seconds.\n",
      "Chain 2: Adjust your expectations accordingly!\n",
      "Chain 2: \n",
      "Chain 2: \n",
      "Chain 2: Iteration:   1 / 1000 [  0%]  (Warmup)\n",
      "Chain 2: Iteration: 100 / 1000 [ 10%]  (Warmup)\n",
      "Chain 2: Iteration: 200 / 1000 [ 20%]  (Warmup)\n",
      "Chain 2: Iteration: 300 / 1000 [ 30%]  (Warmup)\n",
      "Chain 2: Iteration: 400 / 1000 [ 40%]  (Warmup)\n",
      "Chain 2: Iteration: 500 / 1000 [ 50%]  (Warmup)\n",
      "Chain 2: Iteration: 501 / 1000 [ 50%]  (Sampling)\n",
      "Chain 2: Iteration: 600 / 1000 [ 60%]  (Sampling)\n",
      "Chain 2: Iteration: 700 / 1000 [ 70%]  (Sampling)\n",
      "Chain 2: Iteration: 800 / 1000 [ 80%]  (Sampling)\n",
      "Chain 2: Iteration: 900 / 1000 [ 90%]  (Sampling)\n",
      "Chain 2: Iteration: 1000 / 1000 [100%]  (Sampling)\n",
      "Chain 2: \n",
      "Chain 2:  Elapsed Time: 0.063 seconds (Warm-up)\n",
      "Chain 2:                0.05 seconds (Sampling)\n",
      "Chain 2:                0.113 seconds (Total)\n",
      "Chain 2: \n",
      "\n",
      "SAMPLING FOR MODEL '5e0d2402cb8453f2def0cff7bb6c8ba2' NOW (CHAIN 3).\n",
      "Chain 3: \n",
      "Chain 3: Gradient evaluation took 0 seconds\n",
      "Chain 3: 1000 transitions using 10 leapfrog steps per transition would take 0 seconds.\n",
      "Chain 3: Adjust your expectations accordingly!\n",
      "Chain 3: \n",
      "Chain 3: \n",
      "Chain 3: Iteration:   1 / 1000 [  0%]  (Warmup)\n",
      "Chain 3: Iteration: 100 / 1000 [ 10%]  (Warmup)\n",
      "Chain 3: Iteration: 200 / 1000 [ 20%]  (Warmup)\n",
      "Chain 3: Iteration: 300 / 1000 [ 30%]  (Warmup)\n",
      "Chain 3: Iteration: 400 / 1000 [ 40%]  (Warmup)\n",
      "Chain 3: Iteration: 500 / 1000 [ 50%]  (Warmup)\n",
      "Chain 3: Iteration: 501 / 1000 [ 50%]  (Sampling)\n",
      "Chain 3: Iteration: 600 / 1000 [ 60%]  (Sampling)\n",
      "Chain 3: Iteration: 700 / 1000 [ 70%]  (Sampling)\n",
      "Chain 3: Iteration: 800 / 1000 [ 80%]  (Sampling)\n",
      "Chain 3: Iteration: 900 / 1000 [ 90%]  (Sampling)\n",
      "Chain 3: Iteration: 1000 / 1000 [100%]  (Sampling)\n",
      "Chain 3: \n",
      "Chain 3:  Elapsed Time: 0.069 seconds (Warm-up)\n",
      "Chain 3:                0.054 seconds (Sampling)\n",
      "Chain 3:                0.123 seconds (Total)\n",
      "Chain 3: \n",
      "\n",
      "SAMPLING FOR MODEL '5e0d2402cb8453f2def0cff7bb6c8ba2' NOW (CHAIN 4).\n",
      "Chain 4: \n",
      "Chain 4: Gradient evaluation took 0 seconds\n",
      "Chain 4: 1000 transitions using 10 leapfrog steps per transition would take 0 seconds.\n",
      "Chain 4: Adjust your expectations accordingly!\n",
      "Chain 4: \n",
      "Chain 4: \n",
      "Chain 4: Iteration:   1 / 1000 [  0%]  (Warmup)\n",
      "Chain 4: Iteration: 100 / 1000 [ 10%]  (Warmup)\n",
      "Chain 4: Iteration: 200 / 1000 [ 20%]  (Warmup)\n",
      "Chain 4: Iteration: 300 / 1000 [ 30%]  (Warmup)\n",
      "Chain 4: Iteration: 400 / 1000 [ 40%]  (Warmup)\n",
      "Chain 4: Iteration: 500 / 1000 [ 50%]  (Warmup)\n",
      "Chain 4: Iteration: 501 / 1000 [ 50%]  (Sampling)\n",
      "Chain 4: Iteration: 600 / 1000 [ 60%]  (Sampling)\n",
      "Chain 4: Iteration: 700 / 1000 [ 70%]  (Sampling)\n",
      "Chain 4: Iteration: 800 / 1000 [ 80%]  (Sampling)\n",
      "Chain 4: Iteration: 900 / 1000 [ 90%]  (Sampling)\n",
      "Chain 4: Iteration: 1000 / 1000 [100%]  (Sampling)\n",
      "Chain 4: \n",
      "Chain 4:  Elapsed Time: 0.064 seconds (Warm-up)\n",
      "Chain 4:                0.05 seconds (Sampling)\n",
      "Chain 4:                0.114 seconds (Total)\n",
      "Chain 4: \n"
     ]
    }
   ],
   "source": [
    "m2 <- ulam(\n",
    "  alist(\n",
    "    tp ~ dnorm(mu, sigma),\n",
    "    mu <- bt[T] + bc[C],\n",
    "    bt[T] ~ dnorm(0, 0.05),\n",
    "    bc[C] ~ dnorm(0, 0.05),\n",
    "    sigma ~ dexp(1)\n",
    "  ), data = dat_list, chains = 4, cores = 1, log_lik = TRUE)"
   ]
  },
  {
   "cell_type": "markdown",
   "metadata": {},
   "source": [
    "### M3:\n",
    "I use Poisson so first I check to mean, min, max and then calculate the log of them and because of Poisson use discrete outcome so I use dat_list$tp so the result is 1.5 as mean, 0 as min and 2.4 as max so for log(lambda) I set 1.5 as a centre and 1.5 as variance too so now it is cover all number\n"
   ]
  },
  {
   "cell_type": "code",
   "execution_count": 5,
   "metadata": {},
   "outputs": [
    {
     "name": "stdout",
     "output_type": "stream",
     "text": [
      "\n",
      "SAMPLING FOR MODEL '05a05b014e110ed6b2f4d44e2f7c12a5' NOW (CHAIN 1).\n",
      "Chain 1: \n",
      "Chain 1: Gradient evaluation took 0 seconds\n",
      "Chain 1: 1000 transitions using 10 leapfrog steps per transition would take 0 seconds.\n",
      "Chain 1: Adjust your expectations accordingly!\n",
      "Chain 1: \n",
      "Chain 1: \n",
      "Chain 1: Iteration:    1 / 2000 [  0%]  (Warmup)\n",
      "Chain 1: Iteration:  200 / 2000 [ 10%]  (Warmup)\n",
      "Chain 1: Iteration:  400 / 2000 [ 20%]  (Warmup)\n",
      "Chain 1: Iteration:  600 / 2000 [ 30%]  (Warmup)\n",
      "Chain 1: Iteration:  800 / 2000 [ 40%]  (Warmup)\n",
      "Chain 1: Iteration: 1000 / 2000 [ 50%]  (Warmup)\n",
      "Chain 1: Iteration: 1001 / 2000 [ 50%]  (Sampling)\n",
      "Chain 1: Iteration: 1200 / 2000 [ 60%]  (Sampling)\n",
      "Chain 1: Iteration: 1400 / 2000 [ 70%]  (Sampling)\n",
      "Chain 1: Iteration: 1600 / 2000 [ 80%]  (Sampling)\n",
      "Chain 1: Iteration: 1800 / 2000 [ 90%]  (Sampling)\n",
      "Chain 1: Iteration: 2000 / 2000 [100%]  (Sampling)\n",
      "Chain 1: \n",
      "Chain 1:  Elapsed Time: 0.086 seconds (Warm-up)\n",
      "Chain 1:                0.152 seconds (Sampling)\n",
      "Chain 1:                0.238 seconds (Total)\n",
      "Chain 1: \n",
      "\n",
      "SAMPLING FOR MODEL '05a05b014e110ed6b2f4d44e2f7c12a5' NOW (CHAIN 2).\n",
      "Chain 2: \n",
      "Chain 2: Gradient evaluation took 0 seconds\n",
      "Chain 2: 1000 transitions using 10 leapfrog steps per transition would take 0 seconds.\n",
      "Chain 2: Adjust your expectations accordingly!\n",
      "Chain 2: \n",
      "Chain 2: \n",
      "Chain 2: Iteration:    1 / 2000 [  0%]  (Warmup)\n",
      "Chain 2: Iteration:  200 / 2000 [ 10%]  (Warmup)\n",
      "Chain 2: Iteration:  400 / 2000 [ 20%]  (Warmup)\n",
      "Chain 2: Iteration:  600 / 2000 [ 30%]  (Warmup)\n",
      "Chain 2: Iteration:  800 / 2000 [ 40%]  (Warmup)\n",
      "Chain 2: Iteration: 1000 / 2000 [ 50%]  (Warmup)\n",
      "Chain 2: Iteration: 1001 / 2000 [ 50%]  (Sampling)\n",
      "Chain 2: Iteration: 1200 / 2000 [ 60%]  (Sampling)\n",
      "Chain 2: Iteration: 1400 / 2000 [ 70%]  (Sampling)\n",
      "Chain 2: Iteration: 1600 / 2000 [ 80%]  (Sampling)\n",
      "Chain 2: Iteration: 1800 / 2000 [ 90%]  (Sampling)\n",
      "Chain 2: Iteration: 2000 / 2000 [100%]  (Sampling)\n",
      "Chain 2: \n",
      "Chain 2:  Elapsed Time: 0.125 seconds (Warm-up)\n",
      "Chain 2:                0.09 seconds (Sampling)\n",
      "Chain 2:                0.215 seconds (Total)\n",
      "Chain 2: \n",
      "\n",
      "SAMPLING FOR MODEL '05a05b014e110ed6b2f4d44e2f7c12a5' NOW (CHAIN 3).\n",
      "Chain 3: \n",
      "Chain 3: Gradient evaluation took 0 seconds\n",
      "Chain 3: 1000 transitions using 10 leapfrog steps per transition would take 0 seconds.\n",
      "Chain 3: Adjust your expectations accordingly!\n",
      "Chain 3: \n",
      "Chain 3: \n",
      "Chain 3: Iteration:    1 / 2000 [  0%]  (Warmup)\n",
      "Chain 3: Iteration:  200 / 2000 [ 10%]  (Warmup)\n",
      "Chain 3: Iteration:  400 / 2000 [ 20%]  (Warmup)\n",
      "Chain 3: Iteration:  600 / 2000 [ 30%]  (Warmup)\n",
      "Chain 3: Iteration:  800 / 2000 [ 40%]  (Warmup)\n",
      "Chain 3: Iteration: 1000 / 2000 [ 50%]  (Warmup)\n",
      "Chain 3: Iteration: 1001 / 2000 [ 50%]  (Sampling)\n",
      "Chain 3: Iteration: 1200 / 2000 [ 60%]  (Sampling)\n",
      "Chain 3: Iteration: 1400 / 2000 [ 70%]  (Sampling)\n",
      "Chain 3: Iteration: 1600 / 2000 [ 80%]  (Sampling)\n",
      "Chain 3: Iteration: 1800 / 2000 [ 90%]  (Sampling)\n",
      "Chain 3: Iteration: 2000 / 2000 [100%]  (Sampling)\n",
      "Chain 3: \n",
      "Chain 3:  Elapsed Time: 0.095 seconds (Warm-up)\n",
      "Chain 3:                0.131 seconds (Sampling)\n",
      "Chain 3:                0.226 seconds (Total)\n",
      "Chain 3: \n",
      "\n",
      "SAMPLING FOR MODEL '05a05b014e110ed6b2f4d44e2f7c12a5' NOW (CHAIN 4).\n",
      "Chain 4: \n",
      "Chain 4: Gradient evaluation took 0 seconds\n",
      "Chain 4: 1000 transitions using 10 leapfrog steps per transition would take 0 seconds.\n",
      "Chain 4: Adjust your expectations accordingly!\n",
      "Chain 4: \n",
      "Chain 4: \n",
      "Chain 4: Iteration:    1 / 2000 [  0%]  (Warmup)\n",
      "Chain 4: Iteration:  200 / 2000 [ 10%]  (Warmup)\n",
      "Chain 4: Iteration:  400 / 2000 [ 20%]  (Warmup)\n",
      "Chain 4: Iteration:  600 / 2000 [ 30%]  (Warmup)\n",
      "Chain 4: Iteration:  800 / 2000 [ 40%]  (Warmup)\n",
      "Chain 4: Iteration: 1000 / 2000 [ 50%]  (Warmup)\n",
      "Chain 4: Iteration: 1001 / 2000 [ 50%]  (Sampling)\n",
      "Chain 4: Iteration: 1200 / 2000 [ 60%]  (Sampling)\n",
      "Chain 4: Iteration: 1400 / 2000 [ 70%]  (Sampling)\n",
      "Chain 4: Iteration: 1600 / 2000 [ 80%]  (Sampling)\n",
      "Chain 4: Iteration: 1800 / 2000 [ 90%]  (Sampling)\n",
      "Chain 4: Iteration: 2000 / 2000 [100%]  (Sampling)\n",
      "Chain 4: \n",
      "Chain 4:  Elapsed Time: 0.109 seconds (Warm-up)\n",
      "Chain 4:                0.088 seconds (Sampling)\n",
      "Chain 4:                0.197 seconds (Total)\n",
      "Chain 4: \n"
     ]
    }
   ],
   "source": [
    "m3 <- ulam(\n",
    "  alist(\n",
    "    tp ~ dpois(lambda),\n",
    "    log(lambda) <- a,\n",
    "    a ~ dnorm(1.5, 1.5)\n",
    "  ), data = dat_list2, chains = 4,  cores = 1, iter = 2000, log_lik = TRUE\n",
    ")\n"
   ]
  },
  {
   "cell_type": "markdown",
   "metadata": {},
   "source": [
    "### M4:\n",
    "I just add more parameters and the prior for alpha is the same and for bt and bc, I know that T and C can get 1 and 2 and we need to negative them Considering that sometimes alpha maybe more and we need to Decrease it so I centre it with 0 but it should be less than 1 so we need a number less than .5 (because of 2) so I put 0.2(actually I test .5 and .4) but I get better result of 0.2"
   ]
  },
  {
   "cell_type": "code",
   "execution_count": 6,
   "metadata": {},
   "outputs": [
    {
     "name": "stdout",
     "output_type": "stream",
     "text": [
      "\n",
      "SAMPLING FOR MODEL '4c13148f85a054f5ee441b6d59453c7f' NOW (CHAIN 1).\n",
      "Chain 1: \n",
      "Chain 1: Gradient evaluation took 0 seconds\n",
      "Chain 1: 1000 transitions using 10 leapfrog steps per transition would take 0 seconds.\n",
      "Chain 1: Adjust your expectations accordingly!\n",
      "Chain 1: \n",
      "Chain 1: \n",
      "Chain 1: Iteration:    1 / 2000 [  0%]  (Warmup)\n",
      "Chain 1: Iteration:  200 / 2000 [ 10%]  (Warmup)\n",
      "Chain 1: Iteration:  400 / 2000 [ 20%]  (Warmup)\n",
      "Chain 1: Iteration:  600 / 2000 [ 30%]  (Warmup)\n",
      "Chain 1: Iteration:  800 / 2000 [ 40%]  (Warmup)\n",
      "Chain 1: Iteration: 1000 / 2000 [ 50%]  (Warmup)\n",
      "Chain 1: Iteration: 1001 / 2000 [ 50%]  (Sampling)\n",
      "Chain 1: Iteration: 1200 / 2000 [ 60%]  (Sampling)\n",
      "Chain 1: Iteration: 1400 / 2000 [ 70%]  (Sampling)\n",
      "Chain 1: Iteration: 1600 / 2000 [ 80%]  (Sampling)\n",
      "Chain 1: Iteration: 1800 / 2000 [ 90%]  (Sampling)\n",
      "Chain 1: Iteration: 2000 / 2000 [100%]  (Sampling)\n",
      "Chain 1: \n",
      "Chain 1:  Elapsed Time: 1.04 seconds (Warm-up)\n",
      "Chain 1:                0.964 seconds (Sampling)\n",
      "Chain 1:                2.004 seconds (Total)\n",
      "Chain 1: \n",
      "\n",
      "SAMPLING FOR MODEL '4c13148f85a054f5ee441b6d59453c7f' NOW (CHAIN 2).\n",
      "Chain 2: \n",
      "Chain 2: Gradient evaluation took 0 seconds\n",
      "Chain 2: 1000 transitions using 10 leapfrog steps per transition would take 0 seconds.\n",
      "Chain 2: Adjust your expectations accordingly!\n",
      "Chain 2: \n",
      "Chain 2: \n",
      "Chain 2: Iteration:    1 / 2000 [  0%]  (Warmup)\n",
      "Chain 2: Iteration:  200 / 2000 [ 10%]  (Warmup)\n",
      "Chain 2: Iteration:  400 / 2000 [ 20%]  (Warmup)\n",
      "Chain 2: Iteration:  600 / 2000 [ 30%]  (Warmup)\n",
      "Chain 2: Iteration:  800 / 2000 [ 40%]  (Warmup)\n",
      "Chain 2: Iteration: 1000 / 2000 [ 50%]  (Warmup)\n",
      "Chain 2: Iteration: 1001 / 2000 [ 50%]  (Sampling)\n",
      "Chain 2: Iteration: 1200 / 2000 [ 60%]  (Sampling)\n",
      "Chain 2: Iteration: 1400 / 2000 [ 70%]  (Sampling)\n",
      "Chain 2: Iteration: 1600 / 2000 [ 80%]  (Sampling)\n",
      "Chain 2: Iteration: 1800 / 2000 [ 90%]  (Sampling)\n",
      "Chain 2: Iteration: 2000 / 2000 [100%]  (Sampling)\n",
      "Chain 2: \n",
      "Chain 2:  Elapsed Time: 0.945 seconds (Warm-up)\n",
      "Chain 2:                0.966 seconds (Sampling)\n",
      "Chain 2:                1.911 seconds (Total)\n",
      "Chain 2: \n",
      "\n",
      "SAMPLING FOR MODEL '4c13148f85a054f5ee441b6d59453c7f' NOW (CHAIN 3).\n",
      "Chain 3: \n",
      "Chain 3: Gradient evaluation took 0 seconds\n",
      "Chain 3: 1000 transitions using 10 leapfrog steps per transition would take 0 seconds.\n",
      "Chain 3: Adjust your expectations accordingly!\n",
      "Chain 3: \n",
      "Chain 3: \n",
      "Chain 3: Iteration:    1 / 2000 [  0%]  (Warmup)\n",
      "Chain 3: Iteration:  200 / 2000 [ 10%]  (Warmup)\n",
      "Chain 3: Iteration:  400 / 2000 [ 20%]  (Warmup)\n",
      "Chain 3: Iteration:  600 / 2000 [ 30%]  (Warmup)\n",
      "Chain 3: Iteration:  800 / 2000 [ 40%]  (Warmup)\n",
      "Chain 3: Iteration: 1000 / 2000 [ 50%]  (Warmup)\n",
      "Chain 3: Iteration: 1001 / 2000 [ 50%]  (Sampling)\n",
      "Chain 3: Iteration: 1200 / 2000 [ 60%]  (Sampling)\n",
      "Chain 3: Iteration: 1400 / 2000 [ 70%]  (Sampling)\n",
      "Chain 3: Iteration: 1600 / 2000 [ 80%]  (Sampling)\n",
      "Chain 3: Iteration: 1800 / 2000 [ 90%]  (Sampling)\n",
      "Chain 3: Iteration: 2000 / 2000 [100%]  (Sampling)\n",
      "Chain 3: \n",
      "Chain 3:  Elapsed Time: 0.868 seconds (Warm-up)\n",
      "Chain 3:                0.808 seconds (Sampling)\n",
      "Chain 3:                1.676 seconds (Total)\n",
      "Chain 3: \n",
      "\n",
      "SAMPLING FOR MODEL '4c13148f85a054f5ee441b6d59453c7f' NOW (CHAIN 4).\n",
      "Chain 4: \n",
      "Chain 4: Gradient evaluation took 0 seconds\n",
      "Chain 4: 1000 transitions using 10 leapfrog steps per transition would take 0 seconds.\n",
      "Chain 4: Adjust your expectations accordingly!\n",
      "Chain 4: \n",
      "Chain 4: \n",
      "Chain 4: Iteration:    1 / 2000 [  0%]  (Warmup)\n",
      "Chain 4: Iteration:  200 / 2000 [ 10%]  (Warmup)\n",
      "Chain 4: Iteration:  400 / 2000 [ 20%]  (Warmup)\n",
      "Chain 4: Iteration:  600 / 2000 [ 30%]  (Warmup)\n",
      "Chain 4: Iteration:  800 / 2000 [ 40%]  (Warmup)\n",
      "Chain 4: Iteration: 1000 / 2000 [ 50%]  (Warmup)\n",
      "Chain 4: Iteration: 1001 / 2000 [ 50%]  (Sampling)\n",
      "Chain 4: Iteration: 1200 / 2000 [ 60%]  (Sampling)\n",
      "Chain 4: Iteration: 1400 / 2000 [ 70%]  (Sampling)\n",
      "Chain 4: Iteration: 1600 / 2000 [ 80%]  (Sampling)\n",
      "Chain 4: Iteration: 1800 / 2000 [ 90%]  (Sampling)\n",
      "Chain 4: Iteration: 2000 / 2000 [100%]  (Sampling)\n",
      "Chain 4: \n",
      "Chain 4:  Elapsed Time: 0.885 seconds (Warm-up)\n",
      "Chain 4:                1.012 seconds (Sampling)\n",
      "Chain 4:                1.897 seconds (Total)\n",
      "Chain 4: \n"
     ]
    }
   ],
   "source": [
    "m4 <- ulam(\n",
    "  alist(\n",
    "    tp ~ dpois(lambda),\n",
    "    log(lambda) <- a + bt[T]+bc[C],\n",
    "    a ~ dnorm(1.5, 1.5),\n",
    "    bt[T] ~ dnorm( 0, 0.2 ),\n",
    "    bc[C] ~ dnorm( 0, 0.2 )\n",
    "  ), data = dat_list2, chains = 4, cores=1 ,iter = 2000, log_lik = TRUE\n",
    ")"
   ]
  },
  {
   "cell_type": "markdown",
   "metadata": {},
   "source": [
    "### M6:\n",
    "I use Gama-Poisson in this model, all priors are the same as Poisson(M3) Thanks to the link function is the same and I use the same parameters.\n"
   ]
  },
  {
   "cell_type": "code",
   "execution_count": null,
   "metadata": {},
   "outputs": [],
   "source": [
    "m6 <- ulam(\n",
    "  alist(\n",
    "    tp ~ dgampois( lambda , phi ),\n",
    "    log(lambda) <- a + bt[T]+bc[C],\n",
    "    a ~ dnorm(1.5,.5),\n",
    "    bt[T] ~ dnorm( 0 , 0.2 ),\n",
    "    bc[C] ~ dnorm( 0 , 0.2 ),\n",
    "    phi ~ dexp(1)\n",
    "  ), data=dat_list2 ,cores=4, chains=4,cmdstan = TRUE ,iter = 2000 , log_lik=TRUE )\n",
    "\n"
   ]
  },
  {
   "cell_type": "markdown",
   "metadata": {},
   "source": [
    "### M5,M7,M8:\n",
    "these models created by just experience or technique to see that how much these variables effect, I explain that in further\n"
   ]
  },
  {
   "cell_type": "markdown",
   "metadata": {},
   "source": [
    "for all models i check prior and posterior predictive check and check\n",
    "Max and min values(plot is located at prior predictive check)."
   ]
  },
  {
   "cell_type": "markdown",
   "metadata": {},
   "source": [
    "m5 <- ulam(\n",
    "  alist(\n",
    "    tp ~ dnorm(mu, sigma),\n",
    "    mu <- bt[T]  ,\n",
    "    bt[T] ~ dnorm(0, 0.05),\n",
    "    sigma ~ dexp(1)\n",
    "  ), data = dat_list, chains = 4, cores = 4, log_lik = TRUE)\n"
   ]
  },
  {
   "cell_type": "code",
   "execution_count": null,
   "metadata": {},
   "outputs": [],
   "source": [
    "m7 <- ulam(\n",
    "  alist(\n",
    "    T ~ dgampois( lambda , phi ),\n",
    "    log(lambda) <- a + bt[T],\n",
    "    a ~ dnorm(1.5, .5),\n",
    "    bt[T] ~ dnorm( 0 , 0.2 ),\n",
    "    phi ~ dexp(1)\n",
    "  ), data=dat_list2 ,cores=4, chains=4,iter = 2000,\n",
    "  cmdstan = TRUE , log_lik=TRUE )"
   ]
  },
  {
   "cell_type": "code",
   "execution_count": null,
   "metadata": {},
   "outputs": [],
   "source": [
    "m8 <- ulam(\n",
    "  alist(\n",
    "    T ~ dgampois( lambda , phi ),\n",
    "    log(lambda) <- a + bc[C],\n",
    "    a ~ dnorm(1.5, .5),\n",
    "    bc[C] ~ dnorm( 0 , 0.2 ),\n",
    "    phi ~ dexp(1)\n",
    "  ), data=dat_list2 ,cores=4, chains=4,iter = 2000,\n",
    "  cmdstan = TRUE , log_lik=TRUE )"
   ]
  },
  {
   "cell_type": "markdown",
   "metadata": {},
   "source": [
    "## Compare\n",
    "I write the compare code with 4models and the result shows that\n",
    "the m2(interaction Normal model) is better than m1(Normal model)\n",
    "and m1 is better than m4(interaction Poisson model) and m4 is better than m3(Standard Poisson model) (because in WAIC The lower\n",
    "WAIC is the better Model ) I checked to compare with the LOO\n",
    "function but I didn’t see anything change and everything is the\n",
    "same approximately."
   ]
  },
  {
   "cell_type": "code",
   "execution_count": 7,
   "metadata": {},
   "outputs": [
    {
     "data": {
      "text/html": [
       "<table class=\"dataframe\">\n",
       "<caption>A compareIC: 4 × 6</caption>\n",
       "<thead>\n",
       "\t<tr><th></th><th scope=col>WAIC</th><th scope=col>SE</th><th scope=col>dWAIC</th><th scope=col>dSE</th><th scope=col>pWAIC</th><th scope=col>weight</th></tr>\n",
       "\t<tr><th></th><th scope=col>&lt;dbl&gt;</th><th scope=col>&lt;dbl&gt;</th><th scope=col>&lt;dbl&gt;</th><th scope=col>&lt;dbl&gt;</th><th scope=col>&lt;dbl&gt;</th><th scope=col>&lt;dbl&gt;</th></tr>\n",
       "</thead>\n",
       "<tbody>\n",
       "\t<tr><th scope=row>m2</th><td>398.1939</td><td>16.85586</td><td>  0.000000</td><td>       NA</td><td>1.5770888</td><td>7.442807e-01</td></tr>\n",
       "\t<tr><th scope=row>m1</th><td>400.3306</td><td>16.81607</td><td>  2.136676</td><td>0.9534032</td><td>2.9066005</td><td>2.557193e-01</td></tr>\n",
       "\t<tr><th scope=row>m4</th><td>590.7689</td><td>12.43417</td><td>192.574933</td><td>6.6838993</td><td>2.2878677</td><td>1.134022e-42</td></tr>\n",
       "\t<tr><th scope=row>m3</th><td>591.5131</td><td>13.36030</td><td>193.319135</td><td>4.7229913</td><td>0.8399014</td><td>7.816639e-43</td></tr>\n",
       "</tbody>\n",
       "</table>\n"
      ],
      "text/latex": [
       "A compareIC: 4 × 6\n",
       "\\begin{tabular}{r|llllll}\n",
       "  & WAIC & SE & dWAIC & dSE & pWAIC & weight\\\\\n",
       "  & <dbl> & <dbl> & <dbl> & <dbl> & <dbl> & <dbl>\\\\\n",
       "\\hline\n",
       "\tm2 & 398.1939 & 16.85586 &   0.000000 &        NA & 1.5770888 & 7.442807e-01\\\\\n",
       "\tm1 & 400.3306 & 16.81607 &   2.136676 & 0.9534032 & 2.9066005 & 2.557193e-01\\\\\n",
       "\tm4 & 590.7689 & 12.43417 & 192.574933 & 6.6838993 & 2.2878677 & 1.134022e-42\\\\\n",
       "\tm3 & 591.5131 & 13.36030 & 193.319135 & 4.7229913 & 0.8399014 & 7.816639e-43\\\\\n",
       "\\end{tabular}\n"
      ],
      "text/markdown": [
       "\n",
       "A compareIC: 4 × 6\n",
       "\n",
       "| <!--/--> | WAIC &lt;dbl&gt; | SE &lt;dbl&gt; | dWAIC &lt;dbl&gt; | dSE &lt;dbl&gt; | pWAIC &lt;dbl&gt; | weight &lt;dbl&gt; |\n",
       "|---|---|---|---|---|---|---|\n",
       "| m2 | 398.1939 | 16.85586 |   0.000000 |        NA | 1.5770888 | 7.442807e-01 |\n",
       "| m1 | 400.3306 | 16.81607 |   2.136676 | 0.9534032 | 2.9066005 | 2.557193e-01 |\n",
       "| m4 | 590.7689 | 12.43417 | 192.574933 | 6.6838993 | 2.2878677 | 1.134022e-42 |\n",
       "| m3 | 591.5131 | 13.36030 | 193.319135 | 4.7229913 | 0.8399014 | 7.816639e-43 |\n",
       "\n"
      ],
      "text/plain": [
       "   WAIC     SE       dWAIC      dSE       pWAIC     weight      \n",
       "m2 398.1939 16.85586   0.000000        NA 1.5770888 7.442807e-01\n",
       "m1 400.3306 16.81607   2.136676 0.9534032 2.9066005 2.557193e-01\n",
       "m4 590.7689 12.43417 192.574933 6.6838993 2.2878677 1.134022e-42\n",
       "m3 591.5131 13.36030 193.319135 4.7229913 0.8399014 7.816639e-43"
      ]
     },
     "metadata": {},
     "output_type": "display_data"
    }
   ],
   "source": [
    "compare(m1, m2,m3,m4, func = WAIC)"
   ]
  },
  {
   "cell_type": "code",
   "execution_count": 8,
   "metadata": {},
   "outputs": [
    {
     "data": {
      "text/html": [
       "<table class=\"dataframe\">\n",
       "<caption>A compareIC: 4 × 6</caption>\n",
       "<thead>\n",
       "\t<tr><th></th><th scope=col>PSIS</th><th scope=col>SE</th><th scope=col>dPSIS</th><th scope=col>dSE</th><th scope=col>pPSIS</th><th scope=col>weight</th></tr>\n",
       "\t<tr><th></th><th scope=col>&lt;dbl&gt;</th><th scope=col>&lt;dbl&gt;</th><th scope=col>&lt;dbl&gt;</th><th scope=col>&lt;dbl&gt;</th><th scope=col>&lt;dbl&gt;</th><th scope=col>&lt;dbl&gt;</th></tr>\n",
       "</thead>\n",
       "<tbody>\n",
       "\t<tr><th scope=row>m2</th><td>398.2014</td><td>16.91787</td><td>  0.000000</td><td>       NA</td><td>1.5808305</td><td>7.455901e-01</td></tr>\n",
       "\t<tr><th scope=row>m1</th><td>400.3519</td><td>16.87908</td><td>  2.150458</td><td>0.9539637</td><td>2.9172333</td><td>2.544099e-01</td></tr>\n",
       "\t<tr><th scope=row>m4</th><td>590.7783</td><td>12.47992</td><td>192.576915</td><td>6.6843565</td><td>2.2926006</td><td>1.134892e-42</td></tr>\n",
       "\t<tr><th scope=row>m3</th><td>591.5149</td><td>13.40844</td><td>193.313468</td><td>4.7242576</td><td>0.8408096</td><td>7.852610e-43</td></tr>\n",
       "</tbody>\n",
       "</table>\n"
      ],
      "text/latex": [
       "A compareIC: 4 × 6\n",
       "\\begin{tabular}{r|llllll}\n",
       "  & PSIS & SE & dPSIS & dSE & pPSIS & weight\\\\\n",
       "  & <dbl> & <dbl> & <dbl> & <dbl> & <dbl> & <dbl>\\\\\n",
       "\\hline\n",
       "\tm2 & 398.2014 & 16.91787 &   0.000000 &        NA & 1.5808305 & 7.455901e-01\\\\\n",
       "\tm1 & 400.3519 & 16.87908 &   2.150458 & 0.9539637 & 2.9172333 & 2.544099e-01\\\\\n",
       "\tm4 & 590.7783 & 12.47992 & 192.576915 & 6.6843565 & 2.2926006 & 1.134892e-42\\\\\n",
       "\tm3 & 591.5149 & 13.40844 & 193.313468 & 4.7242576 & 0.8408096 & 7.852610e-43\\\\\n",
       "\\end{tabular}\n"
      ],
      "text/markdown": [
       "\n",
       "A compareIC: 4 × 6\n",
       "\n",
       "| <!--/--> | PSIS &lt;dbl&gt; | SE &lt;dbl&gt; | dPSIS &lt;dbl&gt; | dSE &lt;dbl&gt; | pPSIS &lt;dbl&gt; | weight &lt;dbl&gt; |\n",
       "|---|---|---|---|---|---|---|\n",
       "| m2 | 398.2014 | 16.91787 |   0.000000 |        NA | 1.5808305 | 7.455901e-01 |\n",
       "| m1 | 400.3519 | 16.87908 |   2.150458 | 0.9539637 | 2.9172333 | 2.544099e-01 |\n",
       "| m4 | 590.7783 | 12.47992 | 192.576915 | 6.6843565 | 2.2926006 | 1.134892e-42 |\n",
       "| m3 | 591.5149 | 13.40844 | 193.313468 | 4.7242576 | 0.8408096 | 7.852610e-43 |\n",
       "\n"
      ],
      "text/plain": [
       "   PSIS     SE       dPSIS      dSE       pPSIS     weight      \n",
       "m2 398.2014 16.91787   0.000000        NA 1.5808305 7.455901e-01\n",
       "m1 400.3519 16.87908   2.150458 0.9539637 2.9172333 2.544099e-01\n",
       "m4 590.7783 12.47992 192.576915 6.6843565 2.2926006 1.134892e-42\n",
       "m3 591.5149 13.40844 193.313468 4.7242576 0.8408096 7.852610e-43"
      ]
     },
     "metadata": {},
     "output_type": "display_data"
    }
   ],
   "source": [
    "compare(m1, m2,m3,m4, func = LOO)"
   ]
  },
  {
   "cell_type": "markdown",
   "metadata": {},
   "source": [
    "### Dags\n",
    "for dags first, I use daggity site and design my path 13 then I use both libraries (\"dagitty\", \"ggdag\") and write code to display dags."
   ]
  },
  {
   "cell_type": "code",
   "execution_count": 13,
   "metadata": {},
   "outputs": [
    {
     "name": "stderr",
     "output_type": "stream",
     "text": [
      "\n",
      "Attaching package: 'ggdag'\n",
      "\n",
      "\n",
      "The following object is masked from 'package:stats':\n",
      "\n",
      "    filter\n",
      "\n",
      "\n"
     ]
    },
    {
     "data": {
      "text/plain": [
       "\u001b[90m# A DAG with 3 nodes and 2 edges\n",
       "\u001b[39m\u001b[90m#\n",
       "\u001b[39m\u001b[90m# Exposure: C, T\n",
       "\u001b[39m\u001b[90m# Outcome: TP\n",
       "\u001b[39m\u001b[90m#\n",
       "\u001b[39m\u001b[90m# A tibble: 3 x 8\u001b[39m\n",
       "  name      x     y direction to     xend  yend circular\n",
       "  \u001b[3m\u001b[90m<chr>\u001b[39m\u001b[23m \u001b[3m\u001b[90m<dbl>\u001b[39m\u001b[23m \u001b[3m\u001b[90m<dbl>\u001b[39m\u001b[23m \u001b[3m\u001b[90m<fct>\u001b[39m\u001b[23m     \u001b[3m\u001b[90m<chr>\u001b[39m\u001b[23m \u001b[3m\u001b[90m<dbl>\u001b[39m\u001b[23m \u001b[3m\u001b[90m<dbl>\u001b[39m\u001b[23m \u001b[3m\u001b[90m<lgl>\u001b[39m\u001b[23m   \n",
       "\u001b[90m1\u001b[39m C      29.0  24.9 ->        TP     27.8  24.9 FALSE   \n",
       "\u001b[90m2\u001b[39m T      26.7  24.9 ->        TP     27.8  24.9 FALSE   \n",
       "\u001b[90m3\u001b[39m TP     27.8  24.9 \u001b[31mNA\u001b[39m        \u001b[31mNA\u001b[39m     \u001b[31mNA\u001b[39m    \u001b[31mNA\u001b[39m   FALSE   "
      ]
     },
     "metadata": {},
     "output_type": "display_data"
    },
    {
     "data": {
      "image/png": "[encoded data removed]",
      "text/plain": [
       "plot without title"
      ]
     },
     "metadata": {
      "image/png": {
       "height": 420,
       "width": 420
      }
     },
     "output_type": "display_data"
    },
    {
     "data": {
      "image/png": "[encoded data removed]",
      "text/plain": [
       "plot without title"
      ]
     },
     "metadata": {
      "image/png": {
       "height": 420,
       "width": 420
      }
     },
     "output_type": "display_data"
    }
   ],
   "source": [
    "library(dagitty)\n",
    "dag <- dagitty(\"dag{ T -> TP; C -> TP; }\")\n",
    "coordinates(dag) <- list(x = c(T = 0, TP = 1, C = 2), y = c(T = 0, TP = 0, C = 0)) # nolint\n",
    "drawdag(dag)\n",
    "\n",
    "\n",
    "library(ggdag)\n",
    "dag <- dagitty::dagitty(\"dag {\n",
    "    T -> TP <- C\n",
    "    C [exposure]\n",
    "    T [exposure]\n",
    "    TP [outcome]\n",
    "  }\")\n",
    "\n",
    "tidy_dag <- tidy_dagitty(dag)\n",
    "\n",
    "tidy_dag\n",
    "\n",
    "ggdag(tidy_dag) +\n",
    "    theme_dag()"
   ]
  },
  {
   "cell_type": "code",
   "execution_count": null,
   "metadata": {},
   "outputs": [],
   "source": [
    "post <- extract.samples(m6)\n",
    "diff_T <- post$bt[,2] - post$bt[,1]\n",
    "precis(diff_T,depth=2)"
   ]
  },
  {
   "cell_type": "code",
   "execution_count": null,
   "metadata": {},
   "outputs": [],
   "source": [
    "post <- extract.samples(m7)\n",
    "post$diff_T <- post$bt[,2] - post$bt[,1]\n",
    "precis(post,depth=2)"
   ]
  },
  {
   "cell_type": "code",
   "execution_count": null,
   "metadata": {},
   "outputs": [],
   "source": [
    "post <- extract.samples(m8)\n",
    "diff_C <- post$bc[,2] - post$bc[,1]\n",
    "precis(diff_C,depth = 2)"
   ]
  }
 ],
 "metadata": {
  "kernelspec": {
   "display_name": "R",
   "language": "R",
   "name": "ir"
  },
  "language_info": {
   "codemirror_mode": "r",
   "file_extension": ".r",
   "mimetype": "text/x-r-source",
   "name": "R",
   "pygments_lexer": "r",
   "version": "4.1.1"
  },
  "orig_nbformat": 4
 },
 "nbformat": 4,
 "nbformat_minor": 2
}
